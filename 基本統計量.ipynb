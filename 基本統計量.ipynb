{
  "nbformat": 4,
  "nbformat_minor": 0,
  "metadata": {
    "colab": {
      "provenance": [],
      "authorship_tag": "ABX9TyPyZOGl6VO0c8B9xQ/nKAlG",
      "include_colab_link": true
    },
    "kernelspec": {
      "name": "python3",
      "display_name": "Python 3"
    },
    "language_info": {
      "name": "python"
    }
  },
  "cells": [
    {
      "cell_type": "markdown",
      "metadata": {
        "id": "view-in-github",
        "colab_type": "text"
      },
      "source": [
        "<a href=\"https://colab.research.google.com/github/TsukasaSugiura/-Coursera_Capstone/blob/main/%E5%9F%BA%E6%9C%AC%E7%B5%B1%E8%A8%88%E9%87%8F.ipynb\" target=\"_parent\"><img src=\"https://colab.research.google.com/assets/colab-badge.svg\" alt=\"Open In Colab\"/></a>"
      ]
    },
    {
      "cell_type": "code",
      "execution_count": 2,
      "metadata": {
        "colab": {
          "base_uri": "https://localhost:8080/"
        },
        "id": "KspS7f4bNseo",
        "outputId": "ab2ac124-1336-4729-831b-73308974ec9b"
      },
      "outputs": [
        {
          "output_type": "stream",
          "name": "stdout",
          "text": [
            "データ個数 :  662\n"
          ]
        }
      ],
      "source": [
        "#基本統計量\n",
        "\n",
        "#合計値\n",
        "\n",
        "# 　サンプルデータ群\n",
        "num = [0,100,20,5,18,92,67,245,44,71]\n",
        "\n",
        "#合計値を求める\n",
        "data_sum = sum(num)\n",
        "\n",
        "print(\"データ個数 : \", data_sum)"
      ]
    },
    {
      "cell_type": "code",
      "source": [
        "#平均値\n",
        "\n",
        "# データ数\n",
        "n = len(num)\n",
        "\n",
        "print(\"データ個数 : \", n)\n",
        "\n",
        "# 平均値\n",
        "avg = data_sum / n\n",
        "\n",
        "print(\"平均値 : \", avg)"
      ],
      "metadata": {
        "colab": {
          "base_uri": "https://localhost:8080/"
        },
        "id": "h_V4Hl5zOMlk",
        "outputId": "88598dfd-bf89-4ad9-da55-7c744be95b8b"
      },
      "execution_count": 3,
      "outputs": [
        {
          "output_type": "stream",
          "name": "stdout",
          "text": [
            "データ個数 :  10\n",
            "平均値 :  66.2\n"
          ]
        }
      ]
    },
    {
      "cell_type": "code",
      "source": [
        "#中央値\n",
        "\n",
        "import statistics\n",
        "\n",
        "median = statistics.median(num)\n",
        "\n",
        "print(\"中央値 : \", median)"
      ],
      "metadata": {
        "colab": {
          "base_uri": "https://localhost:8080/"
        },
        "id": "msKe6GsbOVpm",
        "outputId": "6f471b75-a65e-4a69-8c2a-c03dcc079c10"
      },
      "execution_count": 4,
      "outputs": [
        {
          "output_type": "stream",
          "name": "stdout",
          "text": [
            "中央値 :  55.5\n"
          ]
        }
      ]
    },
    {
      "cell_type": "code",
      "source": [
        "#平方和\n",
        "\n",
        "import math\n",
        "\n",
        "s = 0\n",
        "\n",
        "# 平方和\n",
        "for i in range(n):\n",
        "  s += math.pow( num[i] - avg ,2)\n",
        "\n",
        "print(\"平方和 : \", s)"
      ],
      "metadata": {
        "colab": {
          "base_uri": "https://localhost:8080/"
        },
        "id": "-TCZtGaPOfOI",
        "outputId": "61af8253-c794-4a96-9ea9-f1f74b807769"
      },
      "execution_count": 5,
      "outputs": [
        {
          "output_type": "stream",
          "name": "stdout",
          "text": [
            "平方和 :  46879.6\n"
          ]
        }
      ]
    },
    {
      "cell_type": "code",
      "source": [
        "# 分散\n",
        "v = s / (n-1)\n",
        "\n",
        "print(\"分散 : \", v)"
      ],
      "metadata": {
        "colab": {
          "base_uri": "https://localhost:8080/"
        },
        "id": "ixZNTUEhOkLZ",
        "outputId": "64c0a399-e880-4bca-d36c-9fbeeb409b2b"
      },
      "execution_count": 7,
      "outputs": [
        {
          "output_type": "stream",
          "name": "stdout",
          "text": [
            "分散 :  5208.844444444444\n"
          ]
        }
      ]
    },
    {
      "cell_type": "code",
      "source": [
        "#相関係数\n",
        "\n",
        "import pandas as pd\n",
        "import numpy as np\n",
        "\n",
        "# 比較対象\n",
        "num2 = [-2,55,28,15,29,0,62,125,25,42]\n",
        "\n",
        "print(\"num  : \", num)\n",
        "print(\"num2 : \", num2)\n",
        "\n",
        "ps1 = pd.Series(num)\n",
        "ps2 = pd.Series(num2)\n",
        "\n",
        "# 相関係数\n",
        "r = ps1.corr(ps2)\n",
        "\n",
        "print(\"相関係数 : \", r)"
      ],
      "metadata": {
        "colab": {
          "base_uri": "https://localhost:8080/"
        },
        "id": "dKkvRt3_OzG7",
        "outputId": "67b4073a-d4d7-44b6-93b4-0936fe5ee508"
      },
      "execution_count": 8,
      "outputs": [
        {
          "output_type": "stream",
          "name": "stdout",
          "text": [
            "num  :  [0, 100, 20, 5, 18, 92, 67, 245, 44, 71]\n",
            "num2 :  [-2, 55, 28, 15, 29, 0, 62, 125, 25, 42]\n",
            "相関係数 :  0.8482080716926012\n"
          ]
        }
      ]
    },
    {
      "cell_type": "code",
      "source": [
        "#散布図\n",
        "\n",
        "import matplotlib.pyplot as plt\n",
        "x = [0,100,20,5,18,92,67,245,44,71]\n",
        "y = [20,90,30,0,42,2,80,0,55,81]\n",
        "\n",
        "px = pd.Series(x)\n",
        "py = pd.Series(y)\n",
        "\n",
        "rxy =px.corr(py)\n",
        "print(\"相関係数 : \", rxy)\n",
        "\n",
        "# 散布図を描画\n",
        "plt.scatter(x, y)\n",
        "plt.xlabel(\"x\")\n",
        "plt.ylabel(\"y\")\n",
        "plt.grid(True)"
      ],
      "metadata": {
        "colab": {
          "base_uri": "https://localhost:8080/",
          "height": 466
        },
        "id": "orWd3_nnO7_z",
        "outputId": "e22627a8-cb8a-409b-b851-dae0c54c0389"
      },
      "execution_count": 9,
      "outputs": [
        {
          "output_type": "stream",
          "name": "stdout",
          "text": [
            "相関係数 :  -0.10534878500297198\n"
          ]
        },
        {
          "output_type": "display_data",
          "data": {
            "text/plain": [
              "<Figure size 640x480 with 1 Axes>"
            ],
            "image/png": "[encoded data removed]"
          },
          "metadata": {}
        }
      ]
    }
  ]
}